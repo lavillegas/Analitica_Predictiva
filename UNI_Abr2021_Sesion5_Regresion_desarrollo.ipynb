{
 "cells": [
  {
   "cell_type": "markdown",
   "metadata": {
    "id": "W7sMuEDFdz35"
   },
   "source": [
    "<p> Dataset de calidad de vinos </p>\n",
    "<p>1 - fixed acidity<br>\n",
    "   2 - volatile acidity<br>\n",
    "   3 - citric acid<br>\n",
    "   4 - residual sugar<br>\n",
    "   5 - chlorides<br>\n",
    "   6 - free sulfur dioxide<br>\n",
    "   7 - total sulfur dioxide<br>\n",
    "   8 - density<br>\n",
    "   9 - pH<br>\n",
    "   10 - sulphates<br>\n",
    "   11 - alcohol<br><br>\n",
    "   Output variable (based on sensory data):<br> \n",
    "   12 - quality (score between 0 and 10)</p>\n",
    "   \n",
    "<p>Cita:<br>\n",
    "P. Cortez, A. Cerdeira, F. Almeida, T. Matos and J. Reis.<br> \n",
    "Modeling wine preferences by data mining from physicochemical properties.<br>\n",
    "In Decision Support Systems, Elsevier, 47(4):547-553. ISSN: 0167-9236.</p>\n"
   ]
  },
  {
   "cell_type": "markdown",
   "metadata": {
    "id": "zRqK6USodz37"
   },
   "source": [
    "!pip install --upgrade scikit-learn\n",
    "!pip install yellowbrick"
   ]
  },
  {
   "cell_type": "code",
   "execution_count": null,
   "metadata": {
    "id": "swqMUADLdz38"
   },
   "outputs": [],
   "source": [
    "#Importing required packages.\n",
    "import pandas as pd\n",
    "pd.options.mode.chained_assignment = None  # default='warn'\n",
    "\n",
    "import numpy as np\n",
    "import seaborn as sns\n",
    "import matplotlib.pyplot as plt"
   ]
  },
  {
   "cell_type": "code",
   "execution_count": null,
   "metadata": {
    "id": "CL3WQfWidz38"
   },
   "outputs": [],
   "source": [
    "# Carguemos el dataset\n",
    "wine = pd.read_csv('winequality-red.csv')"
   ]
  },
  {
   "cell_type": "code",
   "execution_count": null,
   "metadata": {
    "colab": {
     "base_uri": "https://localhost:8080/",
     "height": 200
    },
    "id": "2Gn1LIYsdz39",
    "outputId": "67fc687a-35b6-4e58-912e-fb32561cfa89"
   },
   "outputs": [],
   "source": [
    "# Revisemos el dataset\n",
    "wine.head()"
   ]
  },
  {
   "cell_type": "code",
   "execution_count": null,
   "metadata": {
    "colab": {
     "base_uri": "https://localhost:8080/"
    },
    "id": "ouB6JXs5dz39",
    "outputId": "b8a5d1dc-ee36-4e8c-f4ed-ffe7a00e0f6f"
   },
   "outputs": [],
   "source": [
    "# Informacion sobre las columnas\n",
    "wine.info()"
   ]
  },
  {
   "cell_type": "markdown",
   "metadata": {
    "id": "x4vem5Hhdz39"
   },
   "source": [
    "### Hagamos analisis de datos exploratorio"
   ]
  },
  {
   "cell_type": "markdown",
   "metadata": {
    "id": "iO9vRPpodz3-"
   },
   "source": [
    "Por lo general queremos ver tres cosas:\n",
    "    1. Distribucion de cada variable\n",
    "    2. Comparativo de variable objetivo contra variables predictivas\n",
    "    3. Correlacion entre todas las variables\n",
    "    \n",
    "Esto nos permite tomar decisiones en cuando a las transformaciones requeridas para un mejor modelo"
   ]
  },
  {
   "cell_type": "markdown",
   "metadata": {
    "id": "lpkJFgopdz3-"
   },
   "source": [
    "#### Grafiquemos la distribucion de las variables"
   ]
  },
  {
   "cell_type": "code",
   "execution_count": null,
   "metadata": {
    "colab": {
     "base_uri": "https://localhost:8080/",
     "height": 1000
    },
    "id": "1wfBS1B8dz3-",
    "outputId": "2352ccc9-9111-4a0b-bded-7567888e00ba",
    "scrolled": false
   },
   "outputs": [],
   "source": [
    "# Funcion para graficar distribucion\n",
    "def getBoxplot(data, col):\n",
    "\n",
    "    # Crear figura y establecer su tamaño\n",
    "    fig, ax = plt.subplots(figsize=(12,5))\n",
    "\n",
    "    # Genera un boxplot para cada variable del dataset\n",
    "    sns.boxplot(data[col], ax=ax)\n",
    "    \n",
    "    # Asigna titulo a cada grafico\n",
    "    plt.title(f\"Distribución de {col}\")\n",
    "    \n",
    "    # Muestra grafico\n",
    "    plt.show()\n",
    "\n",
    "    \n",
    "# Bucle para graficar la distribucion de todas las variables utilizando funcion getBoxplot\n",
    "for col in wine.columns:\n",
    "    getBoxplot(wine, col)\n"
   ]
  },
  {
   "cell_type": "markdown",
   "metadata": {
    "id": "nQDSjIrJdz3-"
   },
   "source": [
    "#### Grafiquemos todas las variables contra nuestra variable objetivo: quality"
   ]
  },
  {
   "cell_type": "code",
   "execution_count": null,
   "metadata": {
    "colab": {
     "base_uri": "https://localhost:8080/",
     "height": 1000
    },
    "id": "qW0g7c6ddz3_",
    "outputId": "ecafd730-5a3f-48f7-b12e-000acc220aff",
    "scrolled": false
   },
   "outputs": [],
   "source": [
    "# Funcion para graficar distribucion\n",
    "def getBarplot(data, col, objetivo = 'quality'):\n",
    "    \n",
    "    # Crear figura y establecer su tamaño\n",
    "    fig, ax = plt.subplots(figsize=(12,5))\n",
    "    \n",
    "    # Genera un grafico de barras contra variable objetivo\n",
    "    sns.barplot(x = objetivo, y = col, data = data, ax=ax)\n",
    "    \n",
    "    # Asigna titulo a cada grafico\n",
    "    plt.title(f\"Comparativo {col} vs {objetivo}\")\n",
    "    \n",
    "    # Muestra grafico\n",
    "    plt.show()\n",
    "\n",
    "    \n",
    "# Bucle para graficar la distribucion de todas las variables utilizando funcion getBoxplot\n",
    "for col in wine.columns:\n",
    "    if col != \"quality\":\n",
    "        getBarplot(wine, col)\n"
   ]
  },
  {
   "cell_type": "markdown",
   "metadata": {
    "id": "5JgxS8ipdz3_"
   },
   "source": [
    "#### Grafiquemos la matriz de correlacion"
   ]
  },
  {
   "cell_type": "code",
   "execution_count": null,
   "metadata": {
    "colab": {
     "base_uri": "https://localhost:8080/",
     "height": 463
    },
    "id": "CK2qZJV4dz3_",
    "outputId": "45b27e85-482f-49cc-ba81-3f98e0198ab6"
   },
   "outputs": [],
   "source": [
    "# Crear tabla de correlacion\n",
    "corr = wine.corr()\n",
    "corr"
   ]
  },
  {
   "cell_type": "code",
   "execution_count": null,
   "metadata": {
    "colab": {
     "base_uri": "https://localhost:8080/",
     "height": 583
    },
    "id": "7NCYT3Uudz4A",
    "outputId": "a8ef204b-9378-4e3d-c6da-cc93d7e27875",
    "scrolled": false
   },
   "outputs": [],
   "source": [
    "# Grafiquemos la matriz de correlacion para tener un \n",
    "fig, ax = plt.subplots(figsize=(15,8))\n",
    "\n",
    "# Preparacion de datos para mostrar triangulo inferior\n",
    "mask = np.zeros_like(corr, dtype=np.bool)\n",
    "mask[np.triu_indices_from(mask)] = True\n",
    "\n",
    "# Crear heatmap con matriz de correlacion\n",
    "sns.heatmap(corr, vmin=-1, vmax=1, cmap=\"RdBu\", annot=True, linewidths=.5, fmt=\".2f\", mask=mask)\n",
    "\n",
    "# Asignar titulo al grafico\n",
    "ax.set_title(\"Mapa de calor: Matriz de correlacion\")\n",
    "\n",
    "plt.show()"
   ]
  },
  {
   "cell_type": "markdown",
   "metadata": {
    "id": "-L_YLzUVdz4A"
   },
   "source": [
    "### Generemos unos modelos de regresion capaces de predecir la calidad del vino"
   ]
  },
  {
   "cell_type": "markdown",
   "metadata": {
    "id": "RlildZIddz4A"
   },
   "source": [
    "#### Importemos algunos paquetes"
   ]
  },
  {
   "cell_type": "code",
   "execution_count": null,
   "metadata": {
    "id": "kIXlSUIqdz4A"
   },
   "outputs": [],
   "source": [
    "from sklearn.linear_model import LinearRegression\n",
    "from sklearn.tree import DecisionTreeRegressor\n",
    "from sklearn.ensemble import RandomForestRegressor\n",
    "from lightgbm import LGBMRegressor\n",
    "from sklearn.metrics import mean_squared_error, r2_score\n",
    "from sklearn.model_selection import train_test_split\n",
    "\n",
    "import scipy"
   ]
  },
  {
   "cell_type": "code",
   "execution_count": null,
   "metadata": {
    "colab": {
     "base_uri": "https://localhost:8080/"
    },
    "id": "3LZ76cGDdz4A",
    "outputId": "8aea9a82-5392-4330-f035-5858c5be45cc"
   },
   "outputs": [],
   "source": [
    "import sklearn\n",
    "print('The scikit-learn version is {}.'.format(sklearn.__version__))"
   ]
  },
  {
   "cell_type": "markdown",
   "metadata": {
    "id": "EVwE80XJdz4B"
   },
   "source": [
    "#### Dividamos los datos en set de entrenamiento y validacion"
   ]
  },
  {
   "cell_type": "code",
   "execution_count": null,
   "metadata": {
    "id": "24jP5fLfdz4B"
   },
   "outputs": [],
   "source": [
    "# Asignar variable objetivo a \"y\" y variables predictivas a \"X\"\n",
    "X = wine.drop(columns=['quality', 'pH', 'free sulfur dioxide', 'residual sugar'])\n",
    "y = wine['quality']\n",
    "\n",
    "# Dividamos los datos en entrenamiento y validacion\n",
    "X_train, X_test, y_train, y_test = train_test_split(X, y, test_size=0.33, random_state=42)"
   ]
  },
  {
   "cell_type": "markdown",
   "metadata": {
    "id": "deiLkpWudz4B"
   },
   "source": [
    "#### Creemos una funcion para evaluar validez del modelo"
   ]
  },
  {
   "cell_type": "code",
   "execution_count": null,
   "metadata": {
    "colab": {
     "base_uri": "https://localhost:8080/"
    },
    "id": "ctqXAPZjdz4B",
    "outputId": "22c6dd51-44cf-4e27-e2ad-dadbbe1be4c0"
   },
   "outputs": [],
   "source": [
    "from yellowbrick.regressor import ResidualsPlot\n",
    "\n",
    "# Funcion que grafica diagnostico de regresion\n",
    "def getDiagnosticsPlots(modelo, X, y):\n",
    "    \n",
    "    y_pred = modelo.predict(X)\n",
    "    resid = y - y_pred\n",
    "\n",
    "    # Instanciamos figura\n",
    "    fig, ax = plt.subplots(figsize=(12,10), nrows=2, ncols=1)\n",
    "    \n",
    "    # Crear grafico de valores residuales\n",
    "    ax[0].scatter(y_pred, resid)\n",
    "    ax[0].set_xlabel(\"Predicted\")\n",
    "    ax[0].set_ylabel(\"Residuales\")\n",
    "    ax[0].set_title(\"Residual plot\")\n",
    "\n",
    "    # Crear grafico QQ Plot\n",
    "    scipy.stats.probplot(pred_train, dist=\"norm\", plot=ax[1])\n",
    "\n",
    "    plt.show()\n"
   ]
  },
  {
   "cell_type": "markdown",
   "metadata": {
    "id": "s7vCCX3bdz4C"
   },
   "source": [
    "#### Primero intentemos generar algunos modelos sin preprocesar variables"
   ]
  },
  {
   "cell_type": "code",
   "execution_count": null,
   "metadata": {
    "colab": {
     "base_uri": "https://localhost:8080/",
     "height": 1000
    },
    "id": "Scbiw0E2dz4C",
    "outputId": "b6a62e91-b13c-4b65-8a00-84b78b25604e"
   },
   "outputs": [],
   "source": [
    "# Instanciamos regresion linear\n",
    "reglin = LinearRegression()\n",
    "\n",
    "# Ajustamos los datos a regresion linear\n",
    "reglin.fit(X_train, y_train)\n",
    "\n",
    "# Creamos predicciones sobre set de entrenamiento y validacion\n",
    "pred_train = reglin.predict(X_train)\n",
    "pred_test = reglin.predict(X_test)\n",
    "\n",
    "# Calculamos metricas - r2\n",
    "r2_train = r2_score(y_train, pred_train)\n",
    "r2_test = r2_score(y_test, pred_test)\n",
    "print(f\"R2 en datos de entrenamiento: {round(r2_train, 3)}\")\n",
    "print(f\"R2 en datos de validacion: {round(r2_test, 3)}\")\n",
    "\n",
    "# Agregamos un espacio para claridad en resultados\n",
    "print(\"\\n\")\n",
    "\n",
    "# Calculamos metricas - mse\n",
    "mse_train = mean_squared_error(y_train, pred_train)\n",
    "mse_test =  mean_squared_error(y_test, pred_test)\n",
    "print(f\"MSE en datos de entrenamiento: {round(mse_train, 3)}\")\n",
    "print(f\"MSE en datos de validacion: {round(mse_test, 3)}\")\n",
    " \n",
    "# Grafiquemos los resultados de la regresion\n",
    "print(\"\\nResultados con datos de entrenamiento\\n\")\n",
    "getDiagnosticsPlots(reglin, X_train, y_train)\n",
    "\n",
    "print(\"\\nResultados con datos de validacion\\n\")\n",
    "getDiagnosticsPlots(reglin, X_test, y_test)"
   ]
  },
  {
   "cell_type": "code",
   "execution_count": null,
   "metadata": {
    "colab": {
     "base_uri": "https://localhost:8080/",
     "height": 1000
    },
    "id": "YZHCfxoSdz4D",
    "outputId": "ad7d59a8-383a-49d6-e83d-0eef87d32d3d"
   },
   "outputs": [],
   "source": [
    "# Instanciamos regresion con arbol de decisiones\n",
    "tree = DecisionTreeRegressor(random_state=42)\n",
    "\n",
    "# Ajustamos los datos a regresion linear\n",
    "tree.fit(X_train, y_train)\n",
    "\n",
    "# Creamos predicciones sobre set de entrenamiento y validacion\n",
    "pred_train = tree.predict(X_train)\n",
    "pred_test = tree.predict(X_test)\n",
    "\n",
    "# Calculamos metricas - r2\n",
    "r2_train = r2_score(y_train, pred_train)\n",
    "r2_test = r2_score(y_test, pred_test)\n",
    "print(f\"R2 en datos de entrenamiento: {round(r2_train, 3)}\")\n",
    "print(f\"R2 en datos de validacion: {round(r2_test, 3)}\")\n",
    "\n",
    "# Agregamos un espacio para claridad en resultados\n",
    "print(\"\\n\")\n",
    "\n",
    "# Calculamos metricas - mse\n",
    "mse_train = mean_squared_error(y_train, pred_train)\n",
    "mse_test =  mean_squared_error(y_test, pred_test)\n",
    "print(f\"MSE en datos de entrenamiento: {round(mse_train, 3)}\")\n",
    "print(f\"MSE en datos de validacion: {round(mse_test, 3)}\")\n",
    "\n",
    "# Grafiquemos los resultados de la regresion\n",
    "print(\"\\nResultados con datos de entrenamiento\\n\")\n",
    "getDiagnosticsPlots(tree, X_train, y_train)\n",
    "\n",
    "print(\"\\nResultados con datos de validacion\\n\")\n",
    "getDiagnosticsPlots(tree, X_test, y_test)"
   ]
  },
  {
   "cell_type": "code",
   "execution_count": null,
   "metadata": {
    "colab": {
     "base_uri": "https://localhost:8080/",
     "height": 1000
    },
    "id": "5J58P5Oedz4D",
    "outputId": "a2bc343b-e3f4-429d-aa06-1222d0c5d660"
   },
   "outputs": [],
   "source": [
    "# Instanciamos regresion con arbol de decisiones\n",
    "rf = RandomForestRegressor(random_state=42)\n",
    "\n",
    "# Ajustamos los datos a regresion linear\n",
    "rf.fit(X_train, y_train)\n",
    "\n",
    "# Creamos predicciones sobre set de entrenamiento y validacion\n",
    "pred_train = rf.predict(X_train)\n",
    "pred_test = rf.predict(X_test)\n",
    "\n",
    "# Calculamos metricas - r2\n",
    "r2_train = r2_score(y_train, pred_train)\n",
    "r2_test = r2_score(y_test, pred_test)\n",
    "print(f\"R2 en datos de entrenamiento: {round(r2_train, 3)}\")\n",
    "print(f\"R2 en datos de validacion: {round(r2_test, 3)}\")\n",
    "\n",
    "# Agregamos un espacio para claridad en resultados\n",
    "print(\"\\n\")\n",
    "\n",
    "# Calculamos metricas - mse\n",
    "mse_train = mean_squared_error(y_train, pred_train)\n",
    "mse_test =  mean_squared_error(y_test, pred_test)\n",
    "print(f\"MSE en datos de entrenamiento: {round(mse_train, 3)}\")\n",
    "print(f\"MSE en datos de validacion: {round(mse_test, 3)}\")\n",
    "\n",
    "# Grafiquemos los resultados de la regresion\n",
    "print(\"\\nResultados con datos de entrenamiento\\n\")\n",
    "getDiagnosticsPlots(rf, X_train, y_train)\n",
    "\n",
    "print(\"\\nResultados con datos de validacion\\n\")\n",
    "getDiagnosticsPlots(rf, X_test, y_test)"
   ]
  },
  {
   "cell_type": "code",
   "execution_count": null,
   "metadata": {
    "colab": {
     "base_uri": "https://localhost:8080/",
     "height": 1000
    },
    "id": "oTSZtve8jdE6",
    "outputId": "aa12c007-a907-4278-893b-02797a57a16e"
   },
   "outputs": [],
   "source": [
    "# Instanciamos regresion con LightGBM\n",
    "lgb = LGBMRegressor(random_state=42)\n",
    "\n",
    "# Ajustamos los datos a regresion\n",
    "lgb.fit(X_train, y_train)\n",
    "\n",
    "# Creamos predicciones sobre set de entrenamiento y validacion\n",
    "pred_train = lgb.predict(X_train)\n",
    "pred_test = lgb.predict(X_test)\n",
    "\n",
    "# Calculamos metricas - r2\n",
    "r2_train = r2_score(y_train, pred_train)\n",
    "r2_test = r2_score(y_test, pred_test)\n",
    "print(f\"R2 en datos de entrenamiento: {round(r2_train, 3)}\")\n",
    "print(f\"R2 en datos de validacion: {round(r2_test, 3)}\")\n",
    "\n",
    "# Agregamos un espacio para claridad en resultados\n",
    "print(\"\\n\")\n",
    "\n",
    "# Calculamos metricas - mse\n",
    "mse_train = mean_squared_error(y_train, pred_train)\n",
    "mse_test =  mean_squared_error(y_test, pred_test)\n",
    "print(f\"MSE en datos de entrenamiento: {round(mse_train, 3)}\")\n",
    "print(f\"MSE en datos de validacion: {round(mse_test, 3)}\")\n",
    "\n",
    "# Grafiquemos los resultados de la regresion\n",
    "print(\"\\nResultados con datos de entrenamiento\\n\")\n",
    "getDiagnosticsPlots(lgb, X_train, y_train)\n",
    "\n",
    "print(\"\\nResultados con datos de validacion\\n\")\n",
    "getDiagnosticsPlots(lgb, X_test, y_test)"
   ]
  },
  {
   "cell_type": "markdown",
   "metadata": {
    "id": "UiIL2ag9dz4D"
   },
   "source": [
    "#### Tratemos los outliers"
   ]
  },
  {
   "cell_type": "code",
   "execution_count": null,
   "metadata": {
    "id": "IK2c1qtkdz4E",
    "scrolled": false
   },
   "outputs": [],
   "source": [
    "# Columnas a imputar outliers\n",
    "to_impute = [\"fixed acidity\",\n",
    "\"volatile acidity\",\n",
    "\"chlorides\",\n",
    "\"total sulfur dioxide\",\n",
    "\"sulphates\"\n",
    "]\n",
    "\n",
    "\n",
    "# Iniciar un diccionario para imputar outliers\n",
    "impute_dict = {col:[] for col in to_impute}\n",
    "              \n",
    "# Bucle para obtener quantiles de variables\n",
    "for col in to_impute:\n",
    "    impute_dict[col] = np.quantile(X_train[col], .975)\n",
    "\n",
    "# Bucle para imputar posibles outliers\n",
    "for col in to_impute:\n",
    "    \n",
    "    # Imputar posibles outliers del set de entrenamiento\n",
    "    ix = X_train[col] > impute_dict[col]\n",
    "    X_train.loc[ix, col] = impute_dict[col]\n",
    "    \n",
    "    # Imputar posibles outliers del set de validacion\n",
    "    ix = X_test[col] > impute_dict[col]\n",
    "    X_test.loc[ix, col] = impute_dict[col]\n"
   ]
  },
  {
   "cell_type": "code",
   "execution_count": null,
   "metadata": {
    "colab": {
     "base_uri": "https://localhost:8080/",
     "height": 1000
    },
    "id": "qixaBpw1dz4E",
    "outputId": "bebd0091-0928-428c-e6ee-a360b48a36c9",
    "scrolled": false
   },
   "outputs": [],
   "source": [
    "# Bucle para graficar la distribucion de todas las variables utilizando funcion getBoxplot\n",
    "for col in X_train.columns:\n",
    "    getBoxplot(X_train, col)"
   ]
  },
  {
   "cell_type": "markdown",
   "metadata": {
    "id": "_J_0tl7jdz4E"
   },
   "source": [
    "#### Intentemos modelar con outliers reemplazados"
   ]
  },
  {
   "cell_type": "code",
   "execution_count": null,
   "metadata": {
    "id": "_cgJFErKdz4E"
   },
   "outputs": [],
   "source": [
    "# Funcion para dejar todas las variables en la misma escala\n",
    "from sklearn.preprocessing import StandardScaler"
   ]
  },
  {
   "cell_type": "code",
   "execution_count": null,
   "metadata": {
    "id": "J_hK-ZAhdz4F"
   },
   "outputs": [],
   "source": [
    "# Dejemos todas las variables en la misma escala\n",
    "scaler = StandardScaler()\n",
    "\n",
    "X_train = scaler.fit_transform(X_train)\n",
    "X_test = scaler.transform(X_test)"
   ]
  },
  {
   "cell_type": "code",
   "execution_count": null,
   "metadata": {
    "colab": {
     "base_uri": "https://localhost:8080/",
     "height": 1000
    },
    "id": "zSKxUCAQdz4F",
    "outputId": "ea00b6d2-cda7-4ec7-b169-03c376abfa00"
   },
   "outputs": [],
   "source": [
    "# Instanciamos regresion linear\n",
    "reglin = LinearRegression()\n",
    "\n",
    "# Ajustamos los datos a regresion linear\n",
    "reglin.fit(X_train, y_train)\n",
    "\n",
    "# Creamos predicciones sobre set de entrenamiento y validacion\n",
    "pred_train = reglin.predict(X_train)\n",
    "pred_test = reglin.predict(X_test)\n",
    "\n",
    "# Calculamos metricas - r2\n",
    "r2_train = r2_score(y_train, pred_train)\n",
    "r2_test = r2_score(y_test, pred_test)\n",
    "print(f\"R2 en datos de entrenamiento: {round(r2_train, 3)}\")\n",
    "print(f\"R2 en datos de validacion: {round(r2_test, 3)}\")\n",
    "\n",
    "# Agregamos un espacio para claridad en resultados\n",
    "print(\"\\n\")\n",
    "\n",
    "# Calculamos metricas - mse\n",
    "mse_train = mean_squared_error(y_train, pred_train)\n",
    "mse_test =  mean_squared_error(y_test, pred_test)\n",
    "print(f\"MSE en datos de entrenamiento: {round(mse_train, 3)}\")\n",
    "print(f\"MSE en datos de validacion: {round(mse_test, 3)}\")\n",
    " \n",
    "# Grafiquemos los resultados de la regresion\n",
    "print(\"\\nResultados con datos de entrenamiento\\n\")\n",
    "getDiagnosticsPlots(reglin, X_train, y_train)\n",
    "\n",
    "print(\"\\nResultados con datos de validacion\\n\")\n",
    "getDiagnosticsPlots(reglin, X_test, y_test)"
   ]
  },
  {
   "cell_type": "code",
   "execution_count": null,
   "metadata": {
    "colab": {
     "base_uri": "https://localhost:8080/",
     "height": 1000
    },
    "id": "RCCW_B58dz4F",
    "outputId": "acef7ff5-ea08-4a1d-e64f-2b7f4268b490"
   },
   "outputs": [],
   "source": [
    "# Instanciamos regresion con arbol de decisiones\n",
    "tree = DecisionTreeRegressor(random_state=42)\n",
    "\n",
    "# Ajustamos los datos a regresion linear\n",
    "tree.fit(X_train, y_train)\n",
    "\n",
    "# Creamos predicciones sobre set de entrenamiento y validacion\n",
    "pred_train = tree.predict(X_train)\n",
    "pred_test = tree.predict(X_test)\n",
    "\n",
    "# Calculamos metricas - r2\n",
    "r2_train = r2_score(y_train, pred_train)\n",
    "r2_test = r2_score(y_test, pred_test)\n",
    "print(f\"R2 en datos de entrenamiento: {round(r2_train, 3)}\")\n",
    "print(f\"R2 en datos de validacion: {round(r2_test, 3)}\")\n",
    "\n",
    "# Agregamos un espacio para claridad en resultados\n",
    "print(\"\\n\")\n",
    "\n",
    "# Calculamos metricas - mse\n",
    "mse_train = mean_squared_error(y_train, pred_train)\n",
    "mse_test =  mean_squared_error(y_test, pred_test)\n",
    "print(f\"MSE en datos de entrenamiento: {round(mse_train, 3)}\")\n",
    "print(f\"MSE en datos de validacion: {round(mse_test, 3)}\")\n",
    "\n",
    "# Grafiquemos los resultados de la regresion\n",
    "print(\"\\nResultados con datos de entrenamiento\\n\")\n",
    "getDiagnosticsPlots(tree, X_train, y_train)\n",
    "\n",
    "print(\"\\nResultados con datos de validacion\\n\")\n",
    "getDiagnosticsPlots(tree, X_test, y_test)"
   ]
  },
  {
   "cell_type": "code",
   "execution_count": null,
   "metadata": {
    "colab": {
     "base_uri": "https://localhost:8080/",
     "height": 1000
    },
    "id": "UFpo3eFmdz4G",
    "outputId": "5e26d8d0-4355-445f-8078-7cdc79197a73"
   },
   "outputs": [],
   "source": [
    "# Instanciamos regresion con arbol de decisiones\n",
    "rf = RandomForestRegressor(random_state=42)\n",
    "\n",
    "# Ajustamos los datos a regresion linear\n",
    "rf.fit(X_train, y_train)\n",
    "\n",
    "# Creamos predicciones sobre set de entrenamiento y validacion\n",
    "pred_train = rf.predict(X_train)\n",
    "pred_test = rf.predict(X_test)\n",
    "\n",
    "# Calculamos metricas - r2\n",
    "r2_train = r2_score(y_train, pred_train)\n",
    "r2_test = r2_score(y_test, pred_test)\n",
    "print(f\"R2 en datos de entrenamiento: {round(r2_train, 3)}\")\n",
    "print(f\"R2 en datos de validacion: {round(r2_test, 3)}\")\n",
    "\n",
    "# Agregamos un espacio para claridad en resultados\n",
    "print(\"\\n\")\n",
    "\n",
    "# Calculamos metricas - mse\n",
    "mse_train = mean_squared_error(y_train, pred_train)\n",
    "mse_test =  mean_squared_error(y_test, pred_test)\n",
    "print(f\"MSE en datos de entrenamiento: {round(mse_train, 3)}\")\n",
    "print(f\"MSE en datos de validacion: {round(mse_test, 3)}\")\n",
    "\n",
    "# Grafiquemos los resultados de la regresion\n",
    "print(\"\\nResultados con datos de entrenamiento\\n\")\n",
    "getDiagnosticsPlots(rf, X_train, y_train)\n",
    "\n",
    "print(\"\\nResultados con datos de validacion\\n\")\n",
    "getDiagnosticsPlots(rf, X_test, y_test)"
   ]
  },
  {
   "cell_type": "code",
   "execution_count": null,
   "metadata": {
    "colab": {
     "base_uri": "https://localhost:8080/",
     "height": 1000
    },
    "id": "5YTqBc1qk6IG",
    "outputId": "e3435406-07b9-4ae2-8b8c-95ba0351a8d5"
   },
   "outputs": [],
   "source": [
    "# Instanciamos regresion con LightGBM\n",
    "lgb = LGBMRegressor(random_state=42)\n",
    "\n",
    "# Ajustamos los datos a regresion\n",
    "lgb.fit(X_train, y_train)\n",
    "\n",
    "# Creamos predicciones sobre set de entrenamiento y validacion\n",
    "pred_train = lgb.predict(X_train)\n",
    "pred_test = lgb.predict(X_test)\n",
    "\n",
    "# Calculamos metricas - r2\n",
    "r2_train = r2_score(y_train, pred_train)\n",
    "r2_test = r2_score(y_test, pred_test)\n",
    "print(f\"R2 en datos de entrenamiento: {round(r2_train, 3)}\")\n",
    "print(f\"R2 en datos de validacion: {round(r2_test, 3)}\")\n",
    "\n",
    "# Agregamos un espacio para claridad en resultados\n",
    "print(\"\\n\")\n",
    "\n",
    "# Calculamos metricas - mse\n",
    "mse_train = mean_squared_error(y_train, pred_train)\n",
    "mse_test =  mean_squared_error(y_test, pred_test)\n",
    "print(f\"MSE en datos de entrenamiento: {round(mse_train, 3)}\")\n",
    "print(f\"MSE en datos de validacion: {round(mse_test, 3)}\")\n",
    "\n",
    "# Grafiquemos los resultados de la regresion\n",
    "print(\"\\nResultados con datos de entrenamiento\\n\")\n",
    "getDiagnosticsPlots(lgb, X_train, y_train)\n",
    "\n",
    "print(\"\\nResultados con datos de validacion\\n\")\n",
    "getDiagnosticsPlots(lgb, X_test, y_test)"
   ]
  },
  {
   "cell_type": "markdown",
   "metadata": {
    "id": "dnzB-2xodz4G"
   },
   "source": [
    "#### Ajustemos algunos hiperparametros"
   ]
  },
  {
   "cell_type": "code",
   "execution_count": null,
   "metadata": {
    "id": "CKdRKNTsdz4G"
   },
   "outputs": [],
   "source": [
    "from sklearn.model_selection import GridSearchCV"
   ]
  },
  {
   "cell_type": "code",
   "execution_count": null,
   "metadata": {
    "colab": {
     "base_uri": "https://localhost:8080/"
    },
    "id": "1chjO-bhdz4H",
    "outputId": "e43deed7-8005-479d-a9f9-88518f27fd62"
   },
   "outputs": [],
   "source": [
    "# Especificamos cuadricula de busqueda de parametros\n",
    "param_grid = {'max_depth': range(2,20,2),\n",
    "              'n_estimators': range(10,110, 10),\n",
    "              'min_samples_split': range(2,16,2),\n",
    "              'min_samples_leaf': [1, 2, 4],\n",
    "              'min_samples_split': [2, 5, 10],\n",
    "             'criterion': ['friedman_mse'],\n",
    "             'max_features': ['sqrt'],\n",
    "             'bootstrap': [True, False]}\n",
    "\n",
    "# Instanciamos el base y el de busqueda de parametros\n",
    "rf = RandomForestRegressor(random_state=42)\n",
    "rf_search = GridSearchCV(estimator = rf, param_grid = param_grid, cv = 3, verbose=2, n_jobs = -1)\n",
    "\n",
    "# Ajustar modelo de busqueda de parametros\n",
    "rf_search.fit(X_train, y_train)\n",
    "\n",
    "# Verificar mejores parametros\n",
    "rf_search.best_params_"
   ]
  },
  {
   "cell_type": "code",
   "execution_count": null,
   "metadata": {
    "colab": {
     "base_uri": "https://localhost:8080/",
     "height": 1000
    },
    "id": "eYoKMAN6dz4H",
    "outputId": "74bca43f-2345-4f5c-86b6-77f9d6c718dd"
   },
   "outputs": [],
   "source": [
    "# Creamos predicciones sobre set de entrenamiento y validacion\n",
    "pred_train = rf_search.best_estimator_.predict(X_train)\n",
    "pred_test = rf_search.best_estimator_.predict(X_test)\n",
    "\n",
    "# Calculamos metricas - r2\n",
    "r2_train = r2_score(y_train, pred_train)\n",
    "r2_test = r2_score(y_test, pred_test)\n",
    "print(f\"R2 en datos de entrenamiento: {round(r2_train, 3)}\")\n",
    "print(f\"R2 en datos de validacion: {round(r2_test, 3)}\")\n",
    "\n",
    "# Agregamos un espacio para claridad en resultados\n",
    "print(\"\\n\")\n",
    "\n",
    "# Calculamos metricas - mse\n",
    "mse_train = mean_squared_error(y_train, pred_train)\n",
    "mse_test =  mean_squared_error(y_test, pred_test)\n",
    "print(f\"MSE en datos de entrenamiento: {round(mse_train, 3)}\")\n",
    "print(f\"MSE en datos de validacion: {round(mse_test, 3)}\")\n",
    "\n",
    "# Grafiquemos los resultados de la regresion\n",
    "print(\"\\nResultados con datos de entrenamiento\\n\")\n",
    "getDiagnosticsPlots(rf_search.best_estimator_, X_train, y_train)\n",
    "\n",
    "print(\"\\nResultados con datos de validacion\\n\")\n",
    "getDiagnosticsPlots(rf_search.best_estimator_, X_test, y_test)"
   ]
  },
  {
   "cell_type": "code",
   "execution_count": null,
   "metadata": {
    "colab": {
     "base_uri": "https://localhost:8080/",
     "height": 607
    },
    "id": "yTU6zxcudz4H",
    "outputId": "bc8613cf-19d7-4016-f85f-166e21433ae6",
    "scrolled": false
   },
   "outputs": [],
   "source": [
    "#### Datito del random forest!\n",
    "fig, ax = plt.subplots(figsize=(12,8))\n",
    "sns.barplot(X.columns, rf_search.best_estimator_.feature_importances_, ax=ax)\n",
    "\n",
    "degrees = 90\n",
    "plt.xticks(rotation=degrees)\n",
    "plt.show()"
   ]
  },
  {
   "cell_type": "markdown",
   "metadata": {
    "id": "N877rFp-dz4H"
   },
   "source": [
    "#### BONO, Tensorflow y redes neuronales"
   ]
  },
  {
   "cell_type": "code",
   "execution_count": null,
   "metadata": {
    "id": "qXU0IEZFdz4I"
   },
   "outputs": [],
   "source": [
    "import tensorflow as tf"
   ]
  },
  {
   "cell_type": "code",
   "execution_count": null,
   "metadata": {
    "id": "1AE4ej4adz4I"
   },
   "outputs": [],
   "source": [
    "# Capa de ingesta de datos\n",
    "input_layer = tf.keras.layers.Input(shape=(X_train.shape[1],))\n",
    "\n",
    "# Capa densa - todos los nodos conectados\n",
    "dense_layer_1 = tf.keras.layers.Dense(16, activation='relu')(input_layer)\n",
    "\n",
    "# Capa densa - todos los nodos conectados\n",
    "dense_layer_2 = tf.keras.layers.Dense(16, activation='relu')(dense_layer_1)\n",
    "\n",
    "# Capa de output\n",
    "output = tf.keras.layers.Dense(1)(dense_layer_2)\n",
    "\n",
    "# Compilar modelo\n",
    "model = tf.keras.models.Model(inputs=input_layer, outputs=output)\n",
    "model.compile(loss='mse', optimizer='adam')"
   ]
  },
  {
   "cell_type": "code",
   "execution_count": null,
   "metadata": {
    "colab": {
     "base_uri": "https://localhost:8080/"
    },
    "id": "6bGJx4cddz4I",
    "outputId": "dba61d52-8cd7-42f1-e928-c625239574e7"
   },
   "outputs": [],
   "source": [
    "# Imprimir resumen de modelo\n",
    "model.summary()"
   ]
  },
  {
   "cell_type": "code",
   "execution_count": null,
   "metadata": {
    "colab": {
     "base_uri": "https://localhost:8080/"
    },
    "id": "QwxIowCNdz4I",
    "outputId": "703abe38-7928-4cc2-8a65-82d0c8158756"
   },
   "outputs": [],
   "source": [
    "# Entrenamos la red neuronal\n",
    "history = model.fit(X_train, y_train, batch_size=8, epochs=50, verbose=1, validation_data=(X_test, y_test))"
   ]
  },
  {
   "cell_type": "code",
   "execution_count": null,
   "metadata": {
    "colab": {
     "base_uri": "https://localhost:8080/",
     "height": 609
    },
    "id": "5ClJlzkOdz4I",
    "outputId": "a2f943d2-a3e4-4df6-8052-182f96a063cf"
   },
   "outputs": [],
   "source": [
    "fig, ax = plt.subplots(figsize=(12,10))\n",
    "\n",
    "ax.plot(history.history['val_loss'])\n",
    "ax.plot(history.history['loss'])"
   ]
  },
  {
   "cell_type": "code",
   "execution_count": null,
   "metadata": {
    "colab": {
     "base_uri": "https://localhost:8080/"
    },
    "id": "2LKvHw7Zdz4I",
    "outputId": "f7e15005-6775-43e2-a50b-15142d5628fb"
   },
   "outputs": [],
   "source": [
    "# Hacemos predicciones\n",
    "pred_train = model.predict(X_train) \n",
    "pred_test = model.predict(X_test)\n",
    "\n",
    "# Calculamos metricas - r2\n",
    "r2_train = r2_score(y_train, pred_train)\n",
    "r2_test = r2_score(y_test, pred_test)\n",
    "print(f\"R2 en datos de entrenamiento: {round(r2_train, 3)}\")\n",
    "print(f\"R2 en datos de validacion: {round(r2_test, 3)}\")\n",
    "\n",
    "# Agregamos un espacio para claridad en resultados\n",
    "print(\"\\n\")\n",
    "\n",
    "# Calculamos metricas - mse\n",
    "mse_train = mean_squared_error(y_train, pred_train)\n",
    "mse_test =  mean_squared_error(y_test, pred_test)\n",
    "print(f\"MSE en datos de entrenamiento: {round(mse_train, 3)}\")\n",
    "print(f\"MSE en datos de validacion: {round(mse_test, 3)}\")"
   ]
  }
 ],
 "metadata": {
  "colab": {
   "name": "UNI_Abr2021_Sesion5_Regresion.ipynb",
   "provenance": []
  },
  "kernelspec": {
   "display_name": "Python 3",
   "language": "python",
   "name": "python3"
  },
  "language_info": {
   "codemirror_mode": {
    "name": "ipython",
    "version": 3
   },
   "file_extension": ".py",
   "mimetype": "text/x-python",
   "name": "python",
   "nbconvert_exporter": "python",
   "pygments_lexer": "ipython3",
   "version": "3.7.7"
  }
 },
 "nbformat": 4,
 "nbformat_minor": 1
}
